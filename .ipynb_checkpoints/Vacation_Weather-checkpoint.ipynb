{
 "cells": [
  {
   "cell_type": "code",
   "execution_count": 1,
   "metadata": {},
   "outputs": [],
   "source": [
    "%matplotlib inline\n",
    "from matplotlib import style\n",
    "style.use('fivethirtyeight')\n",
    "import matplotlib.pyplot as plt\n",
    "import matplotlib.dates as mdates\n",
    "import numpy as np\n",
    "import datetime as dt\n",
    "import seaborn as sns\n",
    "from datetime import date\n",
    "import pandas as pd\n",
    "import warnings\n",
    "warnings.simplefilter('ignore')\n",
    "from sqlalchemy import cast, Date\n",
    "# Python SQL toolkit and Object Relational Mapper\n",
    "import sqlalchemy\n",
    "from sqlalchemy.ext.automap import automap_base\n",
    "from sqlalchemy.orm import Session\n",
    "from sqlalchemy import create_engine, func, inspect, distinct"
   ]
  },
  {
   "cell_type": "markdown",
   "metadata": {},
   "source": [
    "The following is an analysis of weather data collected from various weather stations in Hawaii.  The data will be used to visualize the precipitation and temperature fluctuations throughout the year and a more focused look at what the weather is likely to be when I visit Hawaii later this year.  The date of my trip will be from 24 November to 30 November."
   ]
  },
  {
   "cell_type": "markdown",
   "metadata": {},
   "source": [
    "# Reflect Tables into SQLAlchemy ORM"
   ]
  },
  {
   "cell_type": "code",
   "execution_count": 2,
   "metadata": {},
   "outputs": [],
   "source": [
    "# Create engine\n",
    "engine = create_engine(\"sqlite:///Resources/hawaii.sqlite\")"
   ]
  },
  {
   "cell_type": "code",
   "execution_count": 3,
   "metadata": {},
   "outputs": [],
   "source": [
    "# reflect an existing database into a new model\n",
    "Base = automap_base()\n",
    "# reflect the tables\n",
    "Base.prepare(engine, reflect=True)"
   ]
  },
  {
   "cell_type": "code",
   "execution_count": 4,
   "metadata": {},
   "outputs": [
    {
     "data": {
      "text/plain": [
       "['measurement', 'station']"
      ]
     },
     "execution_count": 4,
     "metadata": {},
     "output_type": "execute_result"
    }
   ],
   "source": [
    "# View all of the classes that automap found\n",
    "Base.classes.keys()"
   ]
  },
  {
   "cell_type": "code",
   "execution_count": 5,
   "metadata": {},
   "outputs": [],
   "source": [
    "# Save clases to variables\n",
    "Measurement = Base.classes.measurement\n",
    "Station = Base.classes.station"
   ]
  },
  {
   "cell_type": "code",
   "execution_count": 6,
   "metadata": {},
   "outputs": [],
   "source": [
    "# Create our session (link) from Python to the DB\n",
    "session = Session(engine)"
   ]
  },
  {
   "cell_type": "markdown",
   "metadata": {},
   "source": [
    "# Inspect the data"
   ]
  },
  {
   "cell_type": "code",
   "execution_count": 7,
   "metadata": {},
   "outputs": [],
   "source": [
    "inspector = inspect(engine)"
   ]
  },
  {
   "cell_type": "code",
   "execution_count": 8,
   "metadata": {},
   "outputs": [
    {
     "name": "stdout",
     "output_type": "stream",
     "text": [
      "id INTEGER\n",
      "station TEXT\n",
      "date TEXT\n",
      "prcp FLOAT\n",
      "tobs FLOAT\n"
     ]
    }
   ],
   "source": [
    "columns = inspector.get_columns('measurement')\n",
    "for c in columns:\n",
    "    print(c['name'], c[\"type\"])"
   ]
  },
  {
   "cell_type": "code",
   "execution_count": 9,
   "metadata": {},
   "outputs": [
    {
     "data": {
      "text/plain": [
       "[(1, 'USC00519397', '2010-01-01', 0.08, 65.0),\n",
       " (2, 'USC00519397', '2010-01-02', 0.0, 63.0),\n",
       " (3, 'USC00519397', '2010-01-03', 0.0, 74.0),\n",
       " (4, 'USC00519397', '2010-01-04', 0.0, 76.0),\n",
       " (5, 'USC00519397', '2010-01-06', None, 73.0)]"
      ]
     },
     "execution_count": 9,
     "metadata": {},
     "output_type": "execute_result"
    }
   ],
   "source": [
    "engine.execute('SELECT * FROM measurement LIMIT 5').fetchall()"
   ]
  },
  {
   "cell_type": "code",
   "execution_count": 10,
   "metadata": {},
   "outputs": [
    {
     "name": "stdout",
     "output_type": "stream",
     "text": [
      "id INTEGER\n",
      "station TEXT\n",
      "name TEXT\n",
      "latitude FLOAT\n",
      "longitude FLOAT\n",
      "elevation FLOAT\n"
     ]
    }
   ],
   "source": [
    "columns = inspector.get_columns('station')\n",
    "for c in columns:\n",
    "    print(c['name'], c[\"type\"])"
   ]
  },
  {
   "cell_type": "code",
   "execution_count": 11,
   "metadata": {},
   "outputs": [
    {
     "data": {
      "text/plain": [
       "[(1, 'USC00519397', 'WAIKIKI 717.2, HI US', 21.2716, -157.8168, 3.0),\n",
       " (2, 'USC00513117', 'KANEOHE 838.1, HI US', 21.4234, -157.8015, 14.6),\n",
       " (3, 'USC00514830', 'KUALOA RANCH HEADQUARTERS 886.9, HI US', 21.5213, -157.8374, 7.0),\n",
       " (4, 'USC00517948', 'PEARL CITY, HI US', 21.3934, -157.9751, 11.9),\n",
       " (5, 'USC00518838', 'UPPER WAHIAWA 874.3, HI US', 21.4992, -158.0111, 306.6)]"
      ]
     },
     "execution_count": 11,
     "metadata": {},
     "output_type": "execute_result"
    }
   ],
   "source": [
    "engine.execute('SELECT * FROM station LIMIT 5').fetchall()"
   ]
  },
  {
   "cell_type": "markdown",
   "metadata": {},
   "source": [
    "# Exploratory Climate Analysis"
   ]
  },
  {
   "cell_type": "markdown",
   "metadata": {},
   "source": [
    "First we will take a look at what the last years worth of data tells us about the percipitation in Hawaii."
   ]
  },
  {
   "cell_type": "code",
   "execution_count": 12,
   "metadata": {},
   "outputs": [
    {
     "data": {
      "text/plain": [
       "'2016-08-23'"
      ]
     },
     "execution_count": 12,
     "metadata": {},
     "output_type": "execute_result"
    }
   ],
   "source": [
    "# Find date to start query from\n",
    "#pd.to_datetime used to convert last_date to a timestamp format, then pd.DateOffset used to subtract a year.  Documentation can be found at https://pandas.pydata.org/pandas-docs/stable/reference/api/pandas.to_datetime.html, https://pandas.pydata.org/pandas-docs/stable/reference/api/pandas.tseries.offsets.DateOffset.html\n",
    "year_ago = (pd.to_datetime(session.query(Measurement.date).order_by(Measurement.date.desc()).first()[0])\\\n",
    "            - pd.DateOffset(years=1)).strftime('%Y-%m-%d')\n",
    "year_ago"
   ]
  },
  {
   "cell_type": "code",
   "execution_count": 13,
   "metadata": {},
   "outputs": [
    {
     "data": {
      "text/plain": [
       "('2016-08-23', 0.0)"
      ]
     },
     "execution_count": 13,
     "metadata": {},
     "output_type": "execute_result"
    }
   ],
   "source": [
    "# Query precipitation for 12 month period\n",
    "precp_year = session.query(Measurement.date, Measurement.prcp).\\\n",
    "    filter(Measurement.date >= year_ago).order_by(Measurement.date).all()\n",
    "precp_year[0]"
   ]
  },
  {
   "cell_type": "code",
   "execution_count": 14,
   "metadata": {},
   "outputs": [],
   "source": [
    "# Convert to a dataFrame\n",
    "precp_df = pd.DataFrame(precp_year, columns=['Date', 'Precipitation'])\n",
    "precp_df = precp_df.dropna()\n",
    "precp_df['Date'] = pd.to_datetime(precp_df['Date'])"
   ]
  },
  {
   "cell_type": "code",
   "execution_count": 15,
   "metadata": {
    "scrolled": true
   },
   "outputs": [
    {
     "data": {
      "image/png": "[encoded data removed]",
      "text/plain": [
       "<Figure size 432x288 with 1 Axes>"
      ]
     },
     "metadata": {
      "needs_background": "light"
     },
     "output_type": "display_data"
    }
   ],
   "source": [
    "#Plot Percipitation data\n",
    "months = mdates.MonthLocator()  # every month\n",
    "months_fmt = mdates.DateFormatter('%b')\n",
    "\n",
    "fig, ax = plt.subplots()\n",
    "ax.plot('Date', 'Precipitation', data=precp_df)\n",
    "ax.legend(bbox_to_anchor=(1.45, 1.0))\n",
    "ax.set_title('Daily Percipitation Readings Hawaii')\n",
    "ax.set_ylabel('Precipitation (in.)', fontsize=10)\n",
    "ax.text(0.5, -0.18, '2016-2017 Data', horizontalalignment='center', verticalalignment='center', transform=ax.transAxes, fontsize=10)\n",
    "\n",
    "# format the ticks\n",
    "ax.xaxis.set_major_locator(months)\n",
    "ax.xaxis.set_major_formatter(months_fmt)\n",
    "\n",
    "# round to nearest years.\n",
    "datemin = np.datetime64(precp_df['Date'][0], 'm') - np.timedelta64(1, 'm')\n",
    "datemax = np.datetime64(precp_df['Date'].iloc[-1], 'm') + np.timedelta64(1, 'm')\n",
    "ax.set_xlim(datemin, datemax)\n",
    "\n",
    "# format the coords message box\n",
    "ax.grid(True)\n",
    "\n",
    "# rotates and right aligns the x labels, and moves the bottom of the\n",
    "fig.autofmt_xdate()\n",
    "\n",
    "plt.show()"
   ]
  },
  {
   "cell_type": "markdown",
   "metadata": {},
   "source": [
    "Precipitation data statistics"
   ]
  },
  {
   "cell_type": "code",
   "execution_count": 16,
   "metadata": {},
   "outputs": [
    {
     "data": {
      "text/html": [
       "<div>\n",
       "<style scoped>\n",
       "    .dataframe tbody tr th:only-of-type {\n",
       "        vertical-align: middle;\n",
       "    }\n",
       "\n",
       "    .dataframe tbody tr th {\n",
       "        vertical-align: top;\n",
       "    }\n",
       "\n",
       "    .dataframe thead th {\n",
       "        text-align: right;\n",
       "    }\n",
       "</style>\n",
       "<table border=\"1\" class=\"dataframe\">\n",
       "  <thead>\n",
       "    <tr style=\"text-align: right;\">\n",
       "      <th></th>\n",
       "      <th>Precipitation</th>\n",
       "    </tr>\n",
       "  </thead>\n",
       "  <tbody>\n",
       "    <tr>\n",
       "      <th>count</th>\n",
       "      <td>2021.000000</td>\n",
       "    </tr>\n",
       "    <tr>\n",
       "      <th>mean</th>\n",
       "      <td>0.177279</td>\n",
       "    </tr>\n",
       "    <tr>\n",
       "      <th>std</th>\n",
       "      <td>0.461190</td>\n",
       "    </tr>\n",
       "    <tr>\n",
       "      <th>min</th>\n",
       "      <td>0.000000</td>\n",
       "    </tr>\n",
       "    <tr>\n",
       "      <th>25%</th>\n",
       "      <td>0.000000</td>\n",
       "    </tr>\n",
       "    <tr>\n",
       "      <th>50%</th>\n",
       "      <td>0.020000</td>\n",
       "    </tr>\n",
       "    <tr>\n",
       "      <th>75%</th>\n",
       "      <td>0.130000</td>\n",
       "    </tr>\n",
       "    <tr>\n",
       "      <th>max</th>\n",
       "      <td>6.700000</td>\n",
       "    </tr>\n",
       "  </tbody>\n",
       "</table>\n",
       "</div>"
      ],
      "text/plain": [
       "       Precipitation\n",
       "count    2021.000000\n",
       "mean        0.177279\n",
       "std         0.461190\n",
       "min         0.000000\n",
       "25%         0.000000\n",
       "50%         0.020000\n",
       "75%         0.130000\n",
       "max         6.700000"
      ]
     },
     "execution_count": 16,
     "metadata": {},
     "output_type": "execute_result"
    }
   ],
   "source": [
    "precp_df.describe()"
   ]
  },
  {
   "cell_type": "markdown",
   "metadata": {},
   "source": [
    "# Dataset Facts"
   ]
  },
  {
   "cell_type": "markdown",
   "metadata": {},
   "source": [
    "How man stations are in the Dataset?"
   ]
  },
  {
   "cell_type": "code",
   "execution_count": 17,
   "metadata": {},
   "outputs": [
    {
     "name": "stdout",
     "output_type": "stream",
     "text": [
      "There are 9 stations available in the Station dataset.\n",
      "There are 9 stations available in the Measurement dataset.\n"
     ]
    }
   ],
   "source": [
    "# Design a query to show how many stations are available in this dataset?\n",
    "station_count_s = session.query(Station.id).count()\n",
    "print(f\"There are {station_count_s} stations available in the Station dataset.\")\n",
    "station_count_m = session.query(distinct(Measurement.station)).count()\n",
    "print(f\"There are {station_count_m} stations available in the Measurement dataset.\")"
   ]
  },
  {
   "cell_type": "markdown",
   "metadata": {},
   "source": [
    "How many observations are recorded per weather station in the Dataset?"
   ]
  },
  {
   "cell_type": "code",
   "execution_count": 18,
   "metadata": {},
   "outputs": [
    {
     "data": {
      "text/plain": [
       "[('USC00519281', 2772),\n",
       " ('USC00519397', 2724),\n",
       " ('USC00513117', 2709),\n",
       " ('USC00519523', 2669),\n",
       " ('USC00516128', 2612),\n",
       " ('USC00514830', 2202),\n",
       " ('USC00511918', 1979),\n",
       " ('USC00517948', 1372),\n",
       " ('USC00518838', 511)]"
      ]
     },
     "execution_count": 18,
     "metadata": {},
     "output_type": "execute_result"
    }
   ],
   "source": [
    "#Using a session query\n",
    "station_freq = session.query(Measurement.station, func.count(Measurement.station))\\\n",
    ".group_by(Measurement.station).order_by(func.count(Measurement.station).desc()).all()\n",
    "station_freq"
   ]
  },
  {
   "cell_type": "code",
   "execution_count": 19,
   "metadata": {
    "scrolled": true
   },
   "outputs": [
    {
     "data": {
      "text/html": [
       "<div>\n",
       "<style scoped>\n",
       "    .dataframe tbody tr th:only-of-type {\n",
       "        vertical-align: middle;\n",
       "    }\n",
       "\n",
       "    .dataframe tbody tr th {\n",
       "        vertical-align: top;\n",
       "    }\n",
       "\n",
       "    .dataframe thead th {\n",
       "        text-align: right;\n",
       "    }\n",
       "</style>\n",
       "<table border=\"1\" class=\"dataframe\">\n",
       "  <thead>\n",
       "    <tr style=\"text-align: right;\">\n",
       "      <th></th>\n",
       "      <th>Station ID</th>\n",
       "      <th>Observation Count</th>\n",
       "    </tr>\n",
       "  </thead>\n",
       "  <tbody>\n",
       "    <tr>\n",
       "      <th>0</th>\n",
       "      <td>USC00519281</td>\n",
       "      <td>2772</td>\n",
       "    </tr>\n",
       "    <tr>\n",
       "      <th>1</th>\n",
       "      <td>USC00519397</td>\n",
       "      <td>2724</td>\n",
       "    </tr>\n",
       "    <tr>\n",
       "      <th>2</th>\n",
       "      <td>USC00513117</td>\n",
       "      <td>2709</td>\n",
       "    </tr>\n",
       "    <tr>\n",
       "      <th>3</th>\n",
       "      <td>USC00519523</td>\n",
       "      <td>2669</td>\n",
       "    </tr>\n",
       "    <tr>\n",
       "      <th>4</th>\n",
       "      <td>USC00516128</td>\n",
       "      <td>2612</td>\n",
       "    </tr>\n",
       "    <tr>\n",
       "      <th>5</th>\n",
       "      <td>USC00514830</td>\n",
       "      <td>2202</td>\n",
       "    </tr>\n",
       "    <tr>\n",
       "      <th>6</th>\n",
       "      <td>USC00511918</td>\n",
       "      <td>1979</td>\n",
       "    </tr>\n",
       "    <tr>\n",
       "      <th>7</th>\n",
       "      <td>USC00517948</td>\n",
       "      <td>1372</td>\n",
       "    </tr>\n",
       "    <tr>\n",
       "      <th>8</th>\n",
       "      <td>USC00518838</td>\n",
       "      <td>511</td>\n",
       "    </tr>\n",
       "  </tbody>\n",
       "</table>\n",
       "</div>"
      ],
      "text/plain": [
       "    Station ID  Observation Count\n",
       "0  USC00519281               2772\n",
       "1  USC00519397               2724\n",
       "2  USC00513117               2709\n",
       "3  USC00519523               2669\n",
       "4  USC00516128               2612\n",
       "5  USC00514830               2202\n",
       "6  USC00511918               1979\n",
       "7  USC00517948               1372\n",
       "8  USC00518838                511"
      ]
     },
     "execution_count": 19,
     "metadata": {},
     "output_type": "execute_result"
    }
   ],
   "source": [
    "#Using a dataframe which I think looks better\n",
    "station_freq = session.query(Measurement.station).all()\n",
    "station_freq_df = pd.DataFrame(station_freq, columns=['Station'])\n",
    "station_freq_df = pd.value_counts(station_freq_df.Station).to_frame().reset_index()\n",
    "station_freq_df.columns = ['Station ID', 'Observation Count']\n",
    "station_freq_df"
   ]
  },
  {
   "cell_type": "markdown",
   "metadata": {},
   "source": [
    "Find the most active weather station."
   ]
  },
  {
   "cell_type": "code",
   "execution_count": 20,
   "metadata": {
    "scrolled": true
   },
   "outputs": [
    {
     "data": {
      "text/plain": [
       "'USC00519281'"
      ]
     },
     "execution_count": 20,
     "metadata": {},
     "output_type": "execute_result"
    }
   ],
   "source": [
    "station_active = session.query(Measurement.station, func.count(Measurement.station))\\\n",
    ".group_by(Measurement.station).order_by(func.count(Measurement.station).desc()).first()[0]\n",
    "station_active"
   ]
  },
  {
   "cell_type": "markdown",
   "metadata": {},
   "source": [
    "What is the lowest temperature recorded at the most active weather station?"
   ]
  },
  {
   "cell_type": "code",
   "execution_count": 24,
   "metadata": {},
   "outputs": [
    {
     "name": "stdout",
     "output_type": "stream",
     "text": [
      "The lowset temerature recoded in the dataset is 54.0°F recorded at station USC00519281 on 2013-01-16.\n"
     ]
    }
   ],
   "source": [
    "station_temp_lo = session.query(Measurement.station, Measurement.date, func.min(Measurement.tobs)).\\\n",
    "filter(Measurement.station == station_active).all()\n",
    "print(f\"The lowset temerature recoded in the dataset is {station_temp_lo[0][2]}\\u00B0F recorded at station\\\n",
    " {station_active} on {station_temp_lo[0][1]}.\")"
   ]
  },
  {
   "cell_type": "markdown",
   "metadata": {},
   "source": [
    "What is the highest temperature recorded at the most active weather station?"
   ]
  },
  {
   "cell_type": "code",
   "execution_count": 25,
   "metadata": {},
   "outputs": [
    {
     "name": "stdout",
     "output_type": "stream",
     "text": [
      "The highest temerature recoded in the dataset is 85.0°F recorded at station USC00519281 on 2015-09-10.\n"
     ]
    }
   ],
   "source": [
    "station_temp_hi = session.query(Measurement.station, Measurement.date, func.max(Measurement.tobs)).\\\n",
    "filter(Measurement.station == station_active).all()\n",
    "print(f\"The highest temerature recoded in the dataset is {station_temp_hi[0][2]}\\u00B0F recorded at station\\\n",
    " {station_temp_hi[0][0]} on {station_temp_hi[0][1]}.\")"
   ]
  },
  {
   "cell_type": "markdown",
   "metadata": {},
   "source": [
    "What is the average temperature recorded at the most active weather station?"
   ]
  },
  {
   "cell_type": "code",
   "execution_count": 26,
   "metadata": {},
   "outputs": [
    {
     "name": "stdout",
     "output_type": "stream",
     "text": [
      "The average temerature recorded at station USC00519281 is 71.7°F.\n"
     ]
    }
   ],
   "source": [
    "station_temp_avg = session.query(Measurement.station, Measurement.date, func.avg(Measurement.tobs)).\\\n",
    "filter(Measurement.station == station_active).all()\n",
    "print(f\"The average temerature recorded at station {station_temp_avg[0][0]} is {round(station_temp_avg[0][2], 1)}\\u00B0F.\")"
   ]
  },
  {
   "cell_type": "markdown",
   "metadata": {},
   "source": [
    "Which station was the most active station for temperature observations?"
   ]
  },
  {
   "cell_type": "code",
   "execution_count": 27,
   "metadata": {},
   "outputs": [
    {
     "name": "stdout",
     "output_type": "stream",
     "text": [
      "The most active station for temerapure observations is USC00519281with 2772 temperature observations recorded.\n"
     ]
    }
   ],
   "source": [
    "station_temp_active = session.query(Measurement.station, func.count(Measurement.tobs))\\\n",
    "    .group_by(Measurement.station).order_by(func.count(Measurement.tobs).desc()).first()\n",
    "print(f\"The most active station for temerapure observations is {station_temp_active[0]}\\\n",
    "with {station_temp_active[1]} temperature observations recorded.\")"
   ]
  },
  {
   "cell_type": "markdown",
   "metadata": {},
   "source": [
    "Create a list of temperature readings from the last year of data from the most active weather station."
   ]
  },
  {
   "cell_type": "code",
   "execution_count": 28,
   "metadata": {},
   "outputs": [
    {
     "data": {
      "text/plain": [
       "'2016-08-18'"
      ]
     },
     "execution_count": 28,
     "metadata": {},
     "output_type": "execute_result"
    }
   ],
   "source": [
    "year_ago_temp = (pd.to_datetime(session.query(func.max(Measurement.date)).filter(Measurement.station == station_temp_active.station).all()[0])\\\n",
    "            - pd.DateOffset(years=1)).strftime('%Y-%m-%d')[0]\n",
    "year_ago_temp"
   ]
  },
  {
   "cell_type": "code",
   "execution_count": 29,
   "metadata": {},
   "outputs": [
    {
     "data": {
      "text/html": [
       "<div>\n",
       "<style scoped>\n",
       "    .dataframe tbody tr th:only-of-type {\n",
       "        vertical-align: middle;\n",
       "    }\n",
       "\n",
       "    .dataframe tbody tr th {\n",
       "        vertical-align: top;\n",
       "    }\n",
       "\n",
       "    .dataframe thead th {\n",
       "        text-align: right;\n",
       "    }\n",
       "</style>\n",
       "<table border=\"1\" class=\"dataframe\">\n",
       "  <thead>\n",
       "    <tr style=\"text-align: right;\">\n",
       "      <th></th>\n",
       "      <th>Temperature</th>\n",
       "    </tr>\n",
       "  </thead>\n",
       "  <tbody>\n",
       "    <tr>\n",
       "      <th>0</th>\n",
       "      <td>80.0</td>\n",
       "    </tr>\n",
       "    <tr>\n",
       "      <th>1</th>\n",
       "      <td>79.0</td>\n",
       "    </tr>\n",
       "  </tbody>\n",
       "</table>\n",
       "</div>"
      ],
      "text/plain": [
       "   Temperature\n",
       "0         80.0\n",
       "1         79.0"
      ]
     },
     "execution_count": 29,
     "metadata": {},
     "output_type": "execute_result"
    }
   ],
   "source": [
    "temp_year = session.query(Measurement.tobs).\\\n",
    "    filter(Measurement.date >= year_ago_temp).\\\n",
    "    filter(Measurement.station == station_temp_active.station).order_by(Measurement.date).all()\n",
    "temp_df = pd.DataFrame(temp_year, columns=['Temperature'])\n",
    "temp_df.head(2)"
   ]
  },
  {
   "cell_type": "code",
   "execution_count": 30,
   "metadata": {},
   "outputs": [
    {
     "data": {
      "text/plain": [
       "<function matplotlib.pyplot.show(*args, **kw)>"
      ]
     },
     "execution_count": 30,
     "metadata": {},
     "output_type": "execute_result"
    },
    {
     "data": {
      "image/png": "[encoded data removed]",
      "text/plain": [
       "<Figure size 432x288 with 1 Axes>"
      ]
     },
     "metadata": {
      "needs_background": "light"
     },
     "output_type": "display_data"
    }
   ],
   "source": [
    "temp_df.plot.hist(bins=12)\n",
    "plt.show"
   ]
  },
  {
   "cell_type": "markdown",
   "metadata": {},
   "source": [
    "# Date range functions"
   ]
  },
  {
   "cell_type": "code",
   "execution_count": 33,
   "metadata": {},
   "outputs": [
    {
     "name": "stdout",
     "output_type": "stream",
     "text": [
      "2012-02-28\n"
     ]
    }
   ],
   "source": [
    "# This function called `calc_temps` will accept start date and end date in the format '%Y-%m-%d' \n",
    "# and return the minimum, average, and maximum temperatures for that range of dates\n",
    "\n",
    "def calc_temps(start_date, end_date):\n",
    "    \"\"\"TMIN, TAVG, and TMAX for a list of dates.\n",
    "    \n",
    "    Args:\n",
    "        start_date (string): A date string in the format %Y-%m-%d\n",
    "        end_date (string): A date string in the format %Y-%m-%d\n",
    "\n",
    "    \"\"\"\n",
    "    return session.query(func.min(Measurement.tobs), func.avg(Measurement.tobs), func.max(Measurement.tobs)).\\\n",
    "        filter(Measurement.date >= start_date).filter(Measurement.date <= end_date).all()\n",
    "    print(start_date)\n",
    "# function usage example\n",
    "calc_temps('2012-02-28', '2012-03-05')"
   ]
  },
  {
   "cell_type": "markdown",
   "metadata": {},
   "source": [
    "What is the minimum, average and maximum temperature for the date range of my vacation?"
   ]
  },
  {
   "cell_type": "code",
   "execution_count": null,
   "metadata": {},
   "outputs": [],
   "source": [
    "# Use your previous function `calc_temps` to calculate the tmin, tavg, and tmax \n",
    "# for your trip using the previous year's data for those same dates.\n",
    "results = calc_temps('2016-11-24', '2016-11-30')\n",
    "print(f\"The minimum temperature recorded {results[0][0]}\\u00B0F \\nThe average temperature of recoded values was {np.ravel(results[0][1])[0].astype(float).round(1)}\\u00B0F\\nThe maximum temperature recorded was {results[0][2]}\\u00B0F\")"
   ]
  },
  {
   "cell_type": "code",
   "execution_count": null,
   "metadata": {},
   "outputs": [],
   "source": [
    "yerr = ((results[0][2] - results[0][0])/2)\n",
    "fig = plt.figure(figsize=(2, 5))\n",
    "fig.set_facecolor('whitesmoke')\n",
    "ax = plt.axes()\n",
    "plt.bar(0, results[0][1], color='coral', alpha = .5)\n",
    "plt.errorbar(0, results[0][1], yerr=yerr, elinewidth=1, capsize=7)\n",
    "ax.yaxis.grid(color='grey', linestyle='-', linewidth=.5)\n",
    "ax.xaxis.grid()\n",
    "plt.ylim(0, 101)\n",
    "plt.xlim(-.7, .7)\n",
    "plt.ylabel(\"Temp (F)\", size=12)\n",
    "plt.xticks([])\n",
    "plt.yticks(size=12)\n",
    "plt.title(\"Trip Avg Temp\", size=12)\n",
    "plt.tight_layout()\n",
    "plt.show()"
   ]
  },
  {
   "cell_type": "markdown",
   "metadata": {},
   "source": [
    "Calculate the total rainfall at each station for the date range of my trip."
   ]
  },
  {
   "cell_type": "code",
   "execution_count": null,
   "metadata": {},
   "outputs": [],
   "source": [
    "def calc_prcp(start_date, end_date):\n",
    "    sel = [Station.name, Station.latitude, Station.longitude, Station.elevation, func.sum(Measurement.prcp)]\n",
    "    station_rain = session.query(*sel).group_by(Measurement.station).filter(Measurement.date >= start_date).\\\n",
    "    filter(Measurement.date <= end_date).filter(Station.station == Measurement.station).order_by(func.sum(Measurement.prcp).desc()).all()\n",
    "    station_rain_df = pd.DataFrame(station_rain, columns=['Station Name', 'Latitude', 'Longitude', 'Elevation', 'Precipitation (in)'])\n",
    "    station_rain_df = station_rain_df.dropna()\n",
    "    return station_rain_df\n",
    "\n",
    "calc_prcp('2016-11-24', '2016-11-30')"
   ]
  },
  {
   "cell_type": "markdown",
   "metadata": {},
   "source": [
    "# Daily Normals"
   ]
  },
  {
   "cell_type": "markdown",
   "metadata": {},
   "source": [
    "Use the function daily_normals(start_date, end_date) to create a dataFrame of the min, avg, and max temeratures for the time period of the trip.  These values are derived from historical data within the dataset.  The dates mus be entered in Y-M-D format."
   ]
  },
  {
   "cell_type": "code",
   "execution_count": null,
   "metadata": {},
   "outputs": [],
   "source": [
    "def daily_normals(start_date, end_date):\n",
    "    daily_norm = []  \n",
    "    while pd.to_datetime(start_date) < pd.to_datetime(end_date):\n",
    "        filter_date = pd.to_datetime(start_date).strftime(\"%m-%d\")\n",
    "        sel = [func.min(Measurement.tobs), func.avg(Measurement.tobs), func.max(Measurement.tobs)]\n",
    "        daily_norm_new = session.query(*sel).filter(func.strftime(\"%m-%d\", Measurement.date) == filter_date).all()\n",
    "        \n",
    "        for min, avg, max in daily_norm_new:\n",
    "                daily_dict = {}\n",
    "                daily_dict[\"Date\"] = pd.to_datetime(start_date).strftime(\"%m-%d\")\n",
    "                daily_dict[\"Min Temp (F)\"] = min\n",
    "                daily_dict[\"Avg Temp (F)\"] = round(avg,1)\n",
    "                daily_dict[\"Max Temp (F)\"] = max\n",
    "                daily_norm.append(daily_dict)\n",
    "        \n",
    "        start_date = pd.to_datetime(start_date) + dt.timedelta(days=1)\n",
    "    daily_norm_df = pd.DataFrame(daily_norm, columns = ['Date', 'Min Temp (F)', 'Avg Temp (F)', 'Max Temp (F)'])\n",
    "    daily_norm_df = daily_norm_df.set_index('Date')\n",
    "    return daily_norm_df"
   ]
  },
  {
   "cell_type": "code",
   "execution_count": null,
   "metadata": {},
   "outputs": [],
   "source": [
    "# For my trip\n",
    "trip_normals = daily_normals(\"2016-11-24\", \"2016-11-30\")\n",
    "trip_normals"
   ]
  },
  {
   "cell_type": "code",
   "execution_count": null,
   "metadata": {},
   "outputs": [],
   "source": [
    "trip_normals.plot(kind='area', stacked=False, alpha=0.5,\n",
    "        title='Trip Normals')\n",
    "plt.xticks(rotation=45)"
   ]
  },
  {
   "cell_type": "code",
   "execution_count": null,
   "metadata": {},
   "outputs": [],
   "source": []
  }
 ],
 "metadata": {
  "kernelspec": {
   "display_name": "Python 3",
   "language": "python",
   "name": "python3"
  },
  "language_info": {
   "codemirror_mode": {
    "name": "ipython",
    "version": 3
   },
   "file_extension": ".py",
   "mimetype": "text/x-python",
   "name": "python",
   "nbconvert_exporter": "python",
   "pygments_lexer": "ipython3",
   "version": "3.7.3"
  }
 },
 "nbformat": 4,
 "nbformat_minor": 2
}
